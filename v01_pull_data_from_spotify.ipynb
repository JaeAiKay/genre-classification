{
 "cells": [
  {
   "cell_type": "code",
   "execution_count": 1,
   "id": "36d57fe3",
   "metadata": {
    "scrolled": false
   },
   "outputs": [
    {
     "name": "stdout",
     "output_type": "stream",
     "text": [
      "Requirement already satisfied: python-dotenv in c:\\users\\tong_\\anaconda3\\lib\\site-packages (1.0.0)\n"
     ]
    },
    {
     "name": "stderr",
     "output_type": "stream",
     "text": [
      "\n",
      "[notice] A new release of pip is available: 23.0 -> 23.0.1\n",
      "[notice] To update, run: python.exe -m pip install --upgrade pip\n",
      "\n",
      "[notice] A new release of pip is available: 23.0 -> 23.0.1\n",
      "[notice] To update, run: python.exe -m pip install --upgrade pip\n"
     ]
    },
    {
     "name": "stdout",
     "output_type": "stream",
     "text": [
      "Requirement already satisfied: spotipy in c:\\users\\tong_\\anaconda3\\lib\\site-packages (2.22.1)\n",
      "Requirement already satisfied: six>=1.15.0 in c:\\users\\tong_\\anaconda3\\lib\\site-packages (from spotipy) (1.16.0)\n",
      "Requirement already satisfied: requests>=2.25.0 in c:\\users\\tong_\\anaconda3\\lib\\site-packages (from spotipy) (2.28.1)\n",
      "Requirement already satisfied: redis>=3.5.3 in c:\\users\\tong_\\anaconda3\\lib\\site-packages (from spotipy) (4.5.1)\n",
      "Requirement already satisfied: urllib3>=1.26.0 in c:\\users\\tong_\\anaconda3\\lib\\site-packages (from spotipy) (1.26.11)\n",
      "Requirement already satisfied: async-timeout>=4.0.2 in c:\\users\\tong_\\anaconda3\\lib\\site-packages (from redis>=3.5.3->spotipy) (4.0.2)\n",
      "Requirement already satisfied: charset-normalizer<3,>=2 in c:\\users\\tong_\\anaconda3\\lib\\site-packages (from requests>=2.25.0->spotipy) (2.0.4)\n",
      "Requirement already satisfied: idna<4,>=2.5 in c:\\users\\tong_\\anaconda3\\lib\\site-packages (from requests>=2.25.0->spotipy) (3.3)\n",
      "Requirement already satisfied: certifi>=2017.4.17 in c:\\users\\tong_\\anaconda3\\lib\\site-packages (from requests>=2.25.0->spotipy) (2022.12.7)\n"
     ]
    }
   ],
   "source": [
    "!pip install python-dotenv\n",
    "!pip install spotipy --upgrade\n",
    "\n",
    "# pip install python-vlc\n",
    "\n",
    "import os\n",
    "from spotipy.oauth2 import SpotifyOAuth\n",
    "from spotipy.oauth2 import SpotifyClientCredentials\n",
    "from dotenv import load_dotenv\n",
    "import spotipy\n",
    "import pandas as pd\n",
    "import seaborn as sns\n",
    "import matplotlib.pyplot as plt\n",
    "# import vlc\n",
    "import json\n",
    "import time\n",
    "\n",
    "load_dotenv()\n",
    "\n",
    "client_credentials_manager = SpotifyClientCredentials(client_id=os.environ.get(\"SPOTIPY_CLIENT_ID\"),\n",
    "                                                      client_secret=os.environ.get(\"SPOTIPY_CLIENT_SECRET\"))\n",
    "\n",
    "# sp = spotipy.Spotify(client_credentials_manager=client_credentials_manager)\n",
    "\n",
    "# https://open.spotify.com/playlist/37i9dQZF1E38k2WiBlq4DF?si=96e4439556ff412c\n",
    "# https://open.spotify.com/track/0rc3gOGiTLUz9rZ3ypsYW7?si=721667e208cb4c64\n",
    "# results = sp.playlist(\"37i9dQZF1E38k2WiBlq4DF\")\n",
    "# results = sp.track(\"66lF1QWtLZXJofJ3x388RV\")"
   ]
  },
  {
   "cell_type": "code",
   "execution_count": 2,
   "id": "02fbed12",
   "metadata": {},
   "outputs": [],
   "source": [
    "#การเอาข้อมูลของเพลงโดยใช้ id ของเพลง\n",
    "def get_genres_by_track_id(track_id):\n",
    "\n",
    "    track_data = sp.track(track_id)\n",
    "\n",
    "    artist_ids = []\n",
    "\n",
    "    for artist in track_data[\"artists\"]:\n",
    "        artist_ids.append(artist[\"id\"])\n",
    "\n",
    "    artists_data = sp.artists(artist_ids)\n",
    "\n",
    "    genres = []\n",
    "\n",
    "    for artist in artists_data[\"artists\"]:\n",
    "        genres += artist[\"genres\"]\n",
    "        break\n",
    "\n",
    "    return genres\n",
    "\n",
    "# def play_music(final_df):\n",
    "#     #ลองเล่นเพลงที่ได้จาก preview_url\n",
    "#     song = str(final_df['preview_url'].sample().values[0])\n",
    "#     p = vlc.MediaPlayer(song)\n",
    "\n",
    "#     #ตั้งความดังเสียง\n",
    "#     p.audio_set_volume(50)\n",
    "\n",
    "#     p.play()\n",
    "\n",
    "def get_genres():\n",
    "    # Open genres file\n",
    "    try:\n",
    "        with open('genres.json', 'r') as infile:\n",
    "            valid_genres = json.load(infile)\n",
    "    except FileNotFoundError:\n",
    "        print(\"Couldn't find genres file!\")\n",
    "        sys.exit(1)\n",
    "    \n",
    "    return valid_genres\n",
    "\n",
    "def create_csv(song_meta,genre,limit):\n",
    "    index = 0\n",
    "    song_meta_df = pd.DataFrame.from_dict(song_meta)\n",
    " \n",
    "    # check the song feature\n",
    "    features = sp.audio_features(song_meta['id'][0:50])\n",
    "    for i in range(1,limit//50):\n",
    "        features += sp.audio_features(song_meta['id'][50*i:50*i + 50])\n",
    "        \n",
    "    # change dictionary to dataframe\n",
    "    features_df = pd.DataFrame.from_dict(features)\n",
    "\n",
    "    # combine two dataframe\n",
    "    final_df = song_meta_df.merge(features_df)\n",
    "\n",
    "    final_df = final_df.drop(columns=['type','uri', 'track_href', 'time_signature'])\n",
    "\n",
    "    final_df.to_csv(\"csv-file/\" + genre + \".csv\",index=False)\n",
    "\n",
    "def check_file(genre):\n",
    "    path  = \"csv-file/\" + genre + \".csv\"\n",
    "    check_file = os.path.isfile(path)\n",
    "    return check_file"
   ]
  },
  {
   "cell_type": "code",
   "execution_count": 3,
   "id": "6844c0c2",
   "metadata": {},
   "outputs": [],
   "source": [
    "genres_list = get_genres()\n",
    "ids=[]\n",
    "limit_per_genres = 250\n",
    "genres_not_create = []"
   ]
  },
  {
   "cell_type": "code",
   "execution_count": 4,
   "id": "ee83ef56",
   "metadata": {},
   "outputs": [],
   "source": [
    "for genre in genres_list:\n",
    "    if check_file(genre):\n",
    "        ids += list(pd.read_csv(\"csv-file/\" + genre + \".csv\").id)\n",
    "        continue\n",
    "    break"
   ]
  },
  {
   "cell_type": "code",
   "execution_count": 5,
   "id": "cc09b809",
   "metadata": {
    "scrolled": true
   },
   "outputs": [
    {
     "data": {
      "text/plain": [
       "126"
      ]
     },
     "execution_count": 5,
     "metadata": {},
     "output_type": "execute_result"
    }
   ],
   "source": [
    "len(genres_list)"
   ]
  },
  {
   "cell_type": "code",
   "execution_count": 6,
   "id": "aa210f84",
   "metadata": {
    "scrolled": true
   },
   "outputs": [
    {
     "data": {
      "text/plain": [
       "0"
      ]
     },
     "execution_count": 6,
     "metadata": {},
     "output_type": "execute_result"
    }
   ],
   "source": [
    "len(ids)"
   ]
  },
  {
   "cell_type": "markdown",
   "id": "af41edcc",
   "metadata": {},
   "source": [
    "ทำการดึงข้อมูลเพลงจาก spotify แล้ว save ในรูปแบบ csv ในแต่ละหมวดหมู่เพลง"
   ]
  },
  {
   "cell_type": "code",
   "execution_count": 7,
   "id": "928cb526",
   "metadata": {},
   "outputs": [
    {
     "name": "stdout",
     "output_type": "stream",
     "text": [
      "acoustic : 0\n",
      "=======> can't create file acoustic.csv\n",
      "afrobeat : 0\n",
      "=======> can't create file afrobeat.csv\n",
      "alt-rock : 0\n",
      "=======> can't create file alt-rock.csv\n",
      "alternative : 0\n",
      "=======> can't create file alternative.csv\n",
      "ambient : 0\n",
      "=======> can't create file ambient.csv\n",
      "anime : 0\n",
      "=======> can't create file anime.csv\n",
      "black-metal : 0\n",
      "=======> can't create file black-metal.csv\n",
      "bluegrass : 0\n",
      "=======> can't create file bluegrass.csv\n",
      "blues : 0\n",
      "=======> can't create file blues.csv\n",
      "bossanova : 0\n",
      "=======> can't create file bossanova.csv\n",
      "brazil : 0\n",
      "=======> can't create file brazil.csv\n",
      "breakbeat : 0\n",
      "=======> can't create file breakbeat.csv\n",
      "british : 0\n",
      "=======> can't create file british.csv\n",
      "cantopop : 0\n",
      "=======> can't create file cantopop.csv\n",
      "chicago-house : 0\n",
      "=======> can't create file chicago-house.csv\n",
      "children : 0\n",
      "=======> can't create file children.csv\n",
      "chill : 0\n",
      "=======> can't create file chill.csv\n",
      "classical : 0\n",
      "=======> can't create file classical.csv\n",
      "club : 0\n",
      "=======> can't create file club.csv\n",
      "comedy : 0\n",
      "=======> can't create file comedy.csv\n",
      "country : 0\n"
     ]
    },
    {
     "ename": "KeyboardInterrupt",
     "evalue": "",
     "output_type": "error",
     "traceback": [
      "\u001b[1;31m---------------------------------------------------------------------------\u001b[0m",
      "\u001b[1;31mKeyboardInterrupt\u001b[0m                         Traceback (most recent call last)",
      "\u001b[1;32m~\\AppData\\Local\\Temp\\ipykernel_4436\\1675214656.py\u001b[0m in \u001b[0;36m<module>\u001b[1;34m\u001b[0m\n\u001b[0;32m     10\u001b[0m \u001b[1;33m\u001b[0m\u001b[0m\n\u001b[0;32m     11\u001b[0m         \u001b[0mprint\u001b[0m\u001b[1;33m(\u001b[0m\u001b[1;34m\"{} : {}\"\u001b[0m\u001b[1;33m.\u001b[0m\u001b[0mformat\u001b[0m\u001b[1;33m(\u001b[0m\u001b[0mgenre\u001b[0m\u001b[1;33m,\u001b[0m\u001b[0mlist\u001b[0m\u001b[1;33m(\u001b[0m\u001b[0msong_meta\u001b[0m\u001b[1;33m.\u001b[0m\u001b[0mitems\u001b[0m\u001b[1;33m(\u001b[0m\u001b[1;33m)\u001b[0m\u001b[1;33m)\u001b[0m\u001b[1;33m[\u001b[0m\u001b[1;36m2\u001b[0m\u001b[1;33m]\u001b[0m\u001b[1;33m[\u001b[0m\u001b[1;36m1\u001b[0m\u001b[1;33m]\u001b[0m\u001b[1;33m.\u001b[0m\u001b[0mcount\u001b[0m\u001b[1;33m(\u001b[0m\u001b[0mgenre\u001b[0m\u001b[1;33m)\u001b[0m\u001b[1;33m)\u001b[0m\u001b[1;33m)\u001b[0m\u001b[1;33m\u001b[0m\u001b[1;33m\u001b[0m\u001b[0m\n\u001b[1;32m---> 12\u001b[1;33m         \u001b[0mtime\u001b[0m\u001b[1;33m.\u001b[0m\u001b[0msleep\u001b[0m\u001b[1;33m(\u001b[0m\u001b[1;36m1\u001b[0m\u001b[1;33m)\u001b[0m\u001b[1;33m\u001b[0m\u001b[1;33m\u001b[0m\u001b[0m\n\u001b[0m\u001b[0;32m     13\u001b[0m         \u001b[0mindex\u001b[0m \u001b[1;33m=\u001b[0m \u001b[0mlen\u001b[0m\u001b[1;33m(\u001b[0m\u001b[0mids\u001b[0m\u001b[1;33m)\u001b[0m\u001b[1;33m\u001b[0m\u001b[1;33m\u001b[0m\u001b[0m\n\u001b[0;32m     14\u001b[0m         \u001b[1;32mtry\u001b[0m\u001b[1;33m:\u001b[0m\u001b[1;33m\u001b[0m\u001b[1;33m\u001b[0m\u001b[0m\n",
      "\u001b[1;31mKeyboardInterrupt\u001b[0m: "
     ]
    }
   ],
   "source": [
    "for genre in genres_list:\n",
    "    offset = 0\n",
    "    song_meta={'id':[],'preview_url':[],'genre':[]}\n",
    "    \n",
    "    if check_file(genre):\n",
    "        print(\"=======> have file {}.csv\".format(genre))\n",
    "        continue\n",
    "        \n",
    "    while list(song_meta.items())[2][1].count(genre) < limit_per_genres:\n",
    "        \n",
    "        print(\"{} : {}\".format(genre,list(song_meta.items())[2][1].count(genre)))\n",
    "        time.sleep(1)\n",
    "        index = len(ids)\n",
    "        try:\n",
    "            results = sp.search(q=\"genre:\"+genre,limit=50,offset=offset,type=\"track\")\n",
    "        except:\n",
    "            break\n",
    "            \n",
    "        if (len(results['tracks']['items']) == 0):\n",
    "            print(\"=======> result for search genre {} is 0 track\".format(genre))\n",
    "            break\n",
    "        \n",
    "        offset += 50\n",
    "        # create a list of song ids\n",
    "        for item in results['tracks']['items']:\n",
    "            if item['id'] in ids:\n",
    "                continue\n",
    "            track = item['id']\n",
    "            ids.append(track)\n",
    "            \n",
    "            if list(song_meta.items())[2][1].count(genre) == limit_per_genres:\n",
    "                print(\"{} : {}\".format(genre,list(song_meta.items())[2][1].count(genre)))\n",
    "                break\n",
    "            \n",
    "            if item['preview_url'] == None:\n",
    "                continue\n",
    "                \n",
    "            # song id\n",
    "            song_meta['id'].append(item['id'])\n",
    "\n",
    "            # song preview\n",
    "            preview_url = item['preview_url']\n",
    "            song_meta['preview_url'] += [preview_url]\n",
    "\n",
    "            # song genres\n",
    "            song_genre = genre\n",
    "            song_meta[\"genre\"] += [song_genre]\n",
    "        \n",
    "    if list(song_meta.items())[2][1].count(genre) == 0:\n",
    "        print(\"=======> can't create file {}.csv\".format(genre))\n",
    "        genres_not_create.append(genre)\n",
    "        continue\n",
    "    \n",
    "    print(\"=======> create csv {} {}\".format(genre,list(song_meta.items())[2][1].count(genre)))\n",
    "    create_csv(song_meta,genre,limit_per_genres)"
   ]
  },
  {
   "cell_type": "code",
   "execution_count": null,
   "id": "df71aa4f",
   "metadata": {
    "scrolled": true
   },
   "outputs": [],
   "source": [
    "#ตรวจสอบว่ามีหมวดหมู่ใดที่ไม่มี preview url หรือ ข้อมูลเพลงในหมวดหมู่นี้\n",
    "len(genres_not_create)"
   ]
  },
  {
   "cell_type": "code",
   "execution_count": null,
   "id": "e237495d",
   "metadata": {},
   "outputs": [],
   "source": [
    "genres_not_create"
   ]
  },
  {
   "cell_type": "code",
   "execution_count": null,
   "id": "396a9072",
   "metadata": {},
   "outputs": [],
   "source": [
    "file_path = \"csv-file\"\n",
    "#list all the files from the directory\n",
    "file_list = os.listdir(file_path)\n",
    "\n",
    "df_append = pd.DataFrame()\n",
    "#append all files together\n",
    "for file in file_list:\n",
    "            df_temp = pd.read_csv(\"csv-file/\" + file)\n",
    "            df_append = df_append.concat([df_append,df_temp], ignore_index=True)\n",
    "df_append.head()"
   ]
  },
  {
   "cell_type": "code",
   "execution_count": null,
   "id": "c1ab28d6",
   "metadata": {},
   "outputs": [],
   "source": [
    "len(df_append), len(file_list) * 250"
   ]
  },
  {
   "cell_type": "code",
   "execution_count": null,
   "id": "d2e939ac",
   "metadata": {},
   "outputs": [],
   "source": [
    "# df_append.to_csv(\"csv-file/\" + \"all_genre\" + \".csv\",index=False)"
   ]
  }
 ],
 "metadata": {
  "kernelspec": {
   "display_name": "Python 3 (ipykernel)",
   "language": "python",
   "name": "python3"
  },
  "language_info": {
   "codemirror_mode": {
    "name": "ipython",
    "version": 3
   },
   "file_extension": ".py",
   "mimetype": "text/x-python",
   "name": "python",
   "nbconvert_exporter": "python",
   "pygments_lexer": "ipython3",
   "version": "3.9.13"
  }
 },
 "nbformat": 4,
 "nbformat_minor": 5
}
