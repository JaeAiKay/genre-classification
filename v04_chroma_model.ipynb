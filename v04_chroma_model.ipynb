{
 "cells": [
  {
   "cell_type": "code",
   "execution_count": 1,
   "id": "1c0bb56e",
   "metadata": {},
   "outputs": [],
   "source": [
    "%matplotlib inline\n",
    "\n",
    "import os\n",
    "\n",
    "import IPython.display as ipd\n",
    "import numpy as np\n",
    "import pandas as pd\n",
    "import matplotlib.pyplot as plt\n",
    "import seaborn as sns\n",
    "import sklearn as skl\n",
    "import sklearn.utils, sklearn.preprocessing, sklearn.decomposition, sklearn.svm\n",
    "import librosa\n",
    "import librosa.display\n",
    "import tensorflow as tf\n",
    "from tensorflow import keras\n",
    "\n",
    "import utils\n",
    "\n",
    "plt.rcParams['figure.figsize'] = (25, 8)\n",
    "plt.rcParams[\"figure.autolayout\"] = True"
   ]
  },
  {
   "attachments": {},
   "cell_type": "markdown",
   "id": "d0d521be",
   "metadata": {},
   "source": [
    "# Function"
   ]
  },
  {
   "cell_type": "code",
   "execution_count": 2,
   "id": "4efdde4f",
   "metadata": {},
   "outputs": [],
   "source": [
    "def show(chroma, label):\n",
    "  print(label)\n",
    "  plt.imshow(chroma)\n",
    "  plt.axis('off')"
   ]
  },
  {
   "cell_type": "code",
   "execution_count": 3,
   "id": "4317ace6",
   "metadata": {},
   "outputs": [],
   "source": [
    "def plot_loss_accuracy(history):\n",
    "    fig = plt.figure(figsize=(12, 6))\n",
    "    ax = fig.add_subplot(1, 2, 1)\n",
    "    ax.plot(history.history[\"loss\"],'r-x', label=\"Train Loss\")\n",
    "    ax.plot(history.history[\"val_loss\"],'b-x', label=\"Validation Loss\")\n",
    "    ax.legend()\n",
    "    ax.set_title('cross_entropy loss')\n",
    "    ax.grid(True)\n",
    "\n",
    "\n",
    "    ax = fig.add_subplot(1, 2, 2)\n",
    "    ax.plot(history.history[\"accuracy\"],'r-x', label=\"Train Accuracy\")\n",
    "    ax.plot(history.history[\"val_accuracy\"],'b-x', label=\"Validation Accuracy\")\n",
    "    ax.legend()\n",
    "    ax.set_title('accuracy')\n",
    "    ax.grid(True)"
   ]
  },
  {
   "cell_type": "code",
   "execution_count": 4,
   "id": "a19d55ee",
   "metadata": {},
   "outputs": [],
   "source": [
    "def plot_loss_accuracy(history):\n",
    "    fig = plt.figure(figsize=(12, 6))\n",
    "    ax = fig.add_subplot(1, 2, 1)\n",
    "    ax.plot(history.history[\"loss\"],'r-x', label=\"Train Loss\")\n",
    "    ax.plot(history.history[\"val_loss\"],'b-x', label=\"Validation Loss\")\n",
    "    ax.legend()\n",
    "    ax.set_title('cross_entropy loss')\n",
    "    ax.grid(True)\n",
    "\n",
    "\n",
    "    ax = fig.add_subplot(1, 2, 2)\n",
    "    ax.plot(history.history[\"accuracy\"],'r-x', label=\"Train Accuracy\")\n",
    "    ax.plot(history.history[\"val_accuracy\"],'b-x', label=\"Validation Accuracy\")\n",
    "    ax.legend()\n",
    "    ax.set_title('accuracy')\n",
    "    ax.grid(True)"
   ]
  },
  {
   "attachments": {},
   "cell_type": "markdown",
   "id": "d8b56c06",
   "metadata": {},
   "source": [
    "# Download dataset\n",
    "\n",
    "ดาวน์โหลดชุดข้อมูล chroma (ไฟล์ chroma.npy) ได้ที่ : https://drive.google.com/drive/folders/1ELZ49c3ArRA8uJ18U9WSkVPEltu5YN1q"
   ]
  },
  {
   "cell_type": "code",
   "execution_count": 5,
   "id": "313cc06e",
   "metadata": {},
   "outputs": [],
   "source": [
    "classes = ['acoustic',\n",
    " 'folk',\n",
    " 'alternative/indie',\n",
    " 'blues',\n",
    " 'jazz',\n",
    " 'classical',\n",
    " 'opera',\n",
    " 'club',\n",
    " 'instrumental',\n",
    " 'country',\n",
    " 'techno',\n",
    " 'electronic',\n",
    " 'house',\n",
    " 'hip-hop',\n",
    " 'rock',\n",
    " 'metal',\n",
    " 'pop',\n",
    " 'r&b/soul',\n",
    " 'reggae',\n",
    " 'latin',\n",
    " 'industrial']"
   ]
  },
  {
   "cell_type": "code",
   "execution_count": 6,
   "id": "ac54e86f",
   "metadata": {},
   "outputs": [
    {
     "name": "stdout",
     "output_type": "stream",
     "text": [
      "classes :\n"
     ]
    },
    {
     "data": {
      "text/html": [
       "<div>\n",
       "<style scoped>\n",
       "    .dataframe tbody tr th:only-of-type {\n",
       "        vertical-align: middle;\n",
       "    }\n",
       "\n",
       "    .dataframe tbody tr th {\n",
       "        vertical-align: top;\n",
       "    }\n",
       "\n",
       "    .dataframe thead th {\n",
       "        text-align: right;\n",
       "    }\n",
       "</style>\n",
       "<table border=\"1\" class=\"dataframe\">\n",
       "  <thead>\n",
       "    <tr style=\"text-align: right;\">\n",
       "      <th></th>\n",
       "      <th>0</th>\n",
       "    </tr>\n",
       "  </thead>\n",
       "  <tbody>\n",
       "    <tr>\n",
       "      <th>0</th>\n",
       "      <td>acoustic</td>\n",
       "    </tr>\n",
       "    <tr>\n",
       "      <th>1</th>\n",
       "      <td>folk</td>\n",
       "    </tr>\n",
       "    <tr>\n",
       "      <th>2</th>\n",
       "      <td>alternative/indie</td>\n",
       "    </tr>\n",
       "    <tr>\n",
       "      <th>3</th>\n",
       "      <td>blues</td>\n",
       "    </tr>\n",
       "    <tr>\n",
       "      <th>4</th>\n",
       "      <td>jazz</td>\n",
       "    </tr>\n",
       "    <tr>\n",
       "      <th>5</th>\n",
       "      <td>classical</td>\n",
       "    </tr>\n",
       "    <tr>\n",
       "      <th>6</th>\n",
       "      <td>opera</td>\n",
       "    </tr>\n",
       "    <tr>\n",
       "      <th>7</th>\n",
       "      <td>club</td>\n",
       "    </tr>\n",
       "    <tr>\n",
       "      <th>8</th>\n",
       "      <td>instrumental</td>\n",
       "    </tr>\n",
       "    <tr>\n",
       "      <th>9</th>\n",
       "      <td>country</td>\n",
       "    </tr>\n",
       "    <tr>\n",
       "      <th>10</th>\n",
       "      <td>techno</td>\n",
       "    </tr>\n",
       "    <tr>\n",
       "      <th>11</th>\n",
       "      <td>electronic</td>\n",
       "    </tr>\n",
       "    <tr>\n",
       "      <th>12</th>\n",
       "      <td>house</td>\n",
       "    </tr>\n",
       "    <tr>\n",
       "      <th>13</th>\n",
       "      <td>hip-hop</td>\n",
       "    </tr>\n",
       "    <tr>\n",
       "      <th>14</th>\n",
       "      <td>rock</td>\n",
       "    </tr>\n",
       "    <tr>\n",
       "      <th>15</th>\n",
       "      <td>metal</td>\n",
       "    </tr>\n",
       "    <tr>\n",
       "      <th>16</th>\n",
       "      <td>pop</td>\n",
       "    </tr>\n",
       "    <tr>\n",
       "      <th>17</th>\n",
       "      <td>r&amp;b/soul</td>\n",
       "    </tr>\n",
       "    <tr>\n",
       "      <th>18</th>\n",
       "      <td>reggae</td>\n",
       "    </tr>\n",
       "    <tr>\n",
       "      <th>19</th>\n",
       "      <td>latin</td>\n",
       "    </tr>\n",
       "    <tr>\n",
       "      <th>20</th>\n",
       "      <td>industrial</td>\n",
       "    </tr>\n",
       "  </tbody>\n",
       "</table>\n",
       "</div>"
      ],
      "text/plain": [
       "                    0\n",
       "0            acoustic\n",
       "1                folk\n",
       "2   alternative/indie\n",
       "3               blues\n",
       "4                jazz\n",
       "5           classical\n",
       "6               opera\n",
       "7                club\n",
       "8        instrumental\n",
       "9             country\n",
       "10             techno\n",
       "11         electronic\n",
       "12              house\n",
       "13            hip-hop\n",
       "14               rock\n",
       "15              metal\n",
       "16                pop\n",
       "17           r&b/soul\n",
       "18             reggae\n",
       "19              latin\n",
       "20         industrial"
      ]
     },
     "execution_count": 6,
     "metadata": {},
     "output_type": "execute_result"
    }
   ],
   "source": [
    "print('classes :')\n",
    "pd.DataFrame(classes)"
   ]
  },
  {
   "cell_type": "code",
   "execution_count": 7,
   "id": "b676a80c",
   "metadata": {},
   "outputs": [],
   "source": [
    "num_classes = len(classes)"
   ]
  },
  {
   "cell_type": "code",
   "execution_count": 8,
   "id": "6f58ebc4",
   "metadata": {},
   "outputs": [],
   "source": [
    "# หลังจากที่ดาวน์โหลดชุดข้อมูลแล้ว (ไฟล์ chroma.npy) ให้ย้ายไฟล์ที่ดาวน์โหลดไปใสไว้ใน folder ชื่อ data_preprocess (ภายใน floder นั้นมีไฟล์ชุดข้อมูล Label อยู่แล้ว)\n",
    "\n",
    "X_dataset = np.load('./data_preprocess/chroma.npy')\n",
    "y_dataset = np.load('./data_preprocess/y.npy')"
   ]
  },
  {
   "cell_type": "code",
   "execution_count": 9,
   "id": "87b55391",
   "metadata": {},
   "outputs": [],
   "source": [
    "y_dataset = tf.keras.utils.to_categorical(y_dataset, num_classes=num_classes)"
   ]
  },
  {
   "cell_type": "code",
   "execution_count": 10,
   "id": "1931ecce",
   "metadata": {},
   "outputs": [],
   "source": [
    "X_dataset = X_dataset.reshape((*X_dataset.shape,1))"
   ]
  },
  {
   "cell_type": "code",
   "execution_count": 11,
   "id": "ab21c8c7",
   "metadata": {},
   "outputs": [
    {
     "data": {
      "text/plain": [
       "((15120, 12, 1200, 1), (15120, 21))"
      ]
     },
     "execution_count": 11,
     "metadata": {},
     "output_type": "execute_result"
    }
   ],
   "source": [
    "X_dataset.shape, y_dataset.shape"
   ]
  },
  {
   "cell_type": "code",
   "execution_count": 12,
   "id": "c489a8b7",
   "metadata": {},
   "outputs": [],
   "source": [
    "from sklearn.model_selection import train_test_split\n",
    "\n",
    "X_train, X_test, Y_train, Y_test = train_test_split(X_dataset, y_dataset, train_size=0.75, stratify=y_dataset)\n",
    "X_train, X_val, Y_train, Y_val = train_test_split(X_train, Y_train, train_size=0.8, stratify=Y_train)"
   ]
  },
  {
   "cell_type": "code",
   "execution_count": 13,
   "id": "630a3603",
   "metadata": {},
   "outputs": [
    {
     "data": {
      "text/plain": [
       "15120"
      ]
     },
     "execution_count": 13,
     "metadata": {},
     "output_type": "execute_result"
    }
   ],
   "source": [
    "X_train.shape[0] + X_val.shape[0] + X_test.shape[0]"
   ]
  },
  {
   "cell_type": "code",
   "execution_count": 14,
   "id": "19174d0f",
   "metadata": {},
   "outputs": [
    {
     "data": {
      "text/plain": [
       "(9072, 2268, 3780)"
      ]
     },
     "execution_count": 14,
     "metadata": {},
     "output_type": "execute_result"
    }
   ],
   "source": [
    "X_train.shape[0], X_val.shape[0], X_test.shape[0]"
   ]
  },
  {
   "attachments": {},
   "cell_type": "markdown",
   "id": "4e8078d4",
   "metadata": {},
   "source": [
    "# Build CNN Model"
   ]
  },
  {
   "cell_type": "code",
   "execution_count": 15,
   "id": "ad8b9e5d",
   "metadata": {},
   "outputs": [],
   "source": [
    "import tensorflow as tf\n",
    "from keras import backend as K\n",
    "from keras import layers\n",
    "from keras.models import Sequential, load_model\n",
    "from keras.layers import Dense, Dropout, Flatten\n",
    "from keras.layers import Conv2D, MaxPooling2D\n",
    "from keras.layers import BatchNormalization\n",
    "from keras.utils import np_utils\n",
    "from keras import regularizers"
   ]
  },
  {
   "cell_type": "code",
   "execution_count": 16,
   "id": "d0a432bf",
   "metadata": {},
   "outputs": [
    {
     "name": "stdout",
     "output_type": "stream",
     "text": [
      "Model: \"sequential\"\n",
      "_________________________________________________________________\n",
      " Layer (type)                Output Shape              Param #   \n",
      "=================================================================\n",
      " conv2d (Conv2D)             (None, 10, 1198, 32)      320       \n",
      "                                                                 \n",
      " max_pooling2d (MaxPooling2D  (None, 5, 599, 32)       0         \n",
      " )                                                               \n",
      "                                                                 \n",
      " conv2d_1 (Conv2D)           (None, 3, 597, 32)        9248      \n",
      "                                                                 \n",
      " max_pooling2d_1 (MaxPooling  (None, 1, 298, 32)       0         \n",
      " 2D)                                                             \n",
      "                                                                 \n",
      " dropout (Dropout)           (None, 1, 298, 32)        0         \n",
      "                                                                 \n",
      " flatten (Flatten)           (None, 9536)              0         \n",
      "                                                                 \n",
      " dense (Dense)               (None, 64)                610368    \n",
      "                                                                 \n",
      " dropout_1 (Dropout)         (None, 64)                0         \n",
      "                                                                 \n",
      " dense_1 (Dense)             (None, 32)                2080      \n",
      "                                                                 \n",
      " dense_2 (Dense)             (None, 21)                693       \n",
      "                                                                 \n",
      "=================================================================\n",
      "Total params: 622,709\n",
      "Trainable params: 622,709\n",
      "Non-trainable params: 0\n",
      "_________________________________________________________________\n"
     ]
    }
   ],
   "source": [
    "input_shape=X_train.shape[1:]\n",
    "CNNmodel = Sequential()\n",
    "CNNmodel.add(Conv2D(32, kernel_size=(3, 3), activation='relu',input_shape=input_shape))\n",
    "CNNmodel.add(MaxPooling2D(pool_size=(2, 2)))\n",
    "\n",
    "CNNmodel.add(Conv2D(32, (3, 3), activation='relu',))\n",
    "CNNmodel.add(MaxPooling2D(pool_size=(2, 2)))\n",
    "\n",
    "CNNmodel.add(Dropout(0.2))\n",
    "CNNmodel.add(Flatten())\n",
    "CNNmodel.add(Dense(64, activation='relu'))\n",
    "CNNmodel.add(Dropout(0.4))\n",
    "CNNmodel.add(Dense(32, activation='relu'))\n",
    "CNNmodel.add(Dense(num_classes, activation='softmax'))\n",
    "\n",
    "CNNmodel.summary()"
   ]
  },
  {
   "cell_type": "code",
   "execution_count": 17,
   "id": "7d063966",
   "metadata": {},
   "outputs": [],
   "source": [
    "opt = tf.keras.optimizers.legacy.Adam(learning_rate=0.001)\n",
    "\n",
    "CNNmodel.compile(loss='categorical_crossentropy',\n",
    "              optimizer=opt,\n",
    "              metrics=['accuracy'])"
   ]
  },
  {
   "cell_type": "code",
   "execution_count": 18,
   "id": "21941492",
   "metadata": {},
   "outputs": [
    {
     "name": "stdout",
     "output_type": "stream",
     "text": [
      "Epoch 1/10\n",
      "284/284 [==============================] - 8s 19ms/step - loss: 3.0043 - accuracy: 0.0662 - val_loss: 2.9139 - val_accuracy: 0.0930\n",
      "Epoch 2/10\n",
      "284/284 [==============================] - 5s 17ms/step - loss: 2.8575 - accuracy: 0.0968 - val_loss: 2.7839 - val_accuracy: 0.1102\n",
      "Epoch 3/10\n",
      "284/284 [==============================] - 5s 17ms/step - loss: 2.7519 - accuracy: 0.1209 - val_loss: 2.7502 - val_accuracy: 0.1257\n",
      "Epoch 4/10\n",
      "284/284 [==============================] - 5s 17ms/step - loss: 2.6673 - accuracy: 0.1553 - val_loss: 2.6543 - val_accuracy: 0.1592\n",
      "Epoch 5/10\n",
      "284/284 [==============================] - 5s 16ms/step - loss: 2.5580 - accuracy: 0.1877 - val_loss: 2.5941 - val_accuracy: 0.1728\n",
      "Epoch 6/10\n",
      "284/284 [==============================] - 5s 17ms/step - loss: 2.4192 - accuracy: 0.2295 - val_loss: 2.5870 - val_accuracy: 0.1781\n",
      "Epoch 7/10\n",
      "284/284 [==============================] - 5s 17ms/step - loss: 2.2704 - accuracy: 0.2708 - val_loss: 2.5822 - val_accuracy: 0.1843\n",
      "Epoch 8/10\n",
      "284/284 [==============================] - 5s 17ms/step - loss: 2.1359 - accuracy: 0.3144 - val_loss: 2.6174 - val_accuracy: 0.1936\n",
      "Epoch 9/10\n",
      "284/284 [==============================] - 5s 17ms/step - loss: 1.9697 - accuracy: 0.3609 - val_loss: 2.6848 - val_accuracy: 0.1861\n",
      "Epoch 10/10\n",
      "284/284 [==============================] - 5s 17ms/step - loss: 1.8404 - accuracy: 0.3999 - val_loss: 2.7553 - val_accuracy: 0.1892\n"
     ]
    }
   ],
   "source": [
    "history = CNNmodel.fit(X_train, Y_train, epochs=10, validation_data=(X_val, Y_val))"
   ]
  },
  {
   "cell_type": "code",
   "execution_count": 19,
   "id": "f3024f78",
   "metadata": {},
   "outputs": [
    {
     "name": "stdout",
     "output_type": "stream",
     "text": [
      "119/119 [==============================] - 1s 6ms/step - loss: 2.7687 - accuracy: 0.1995\n"
     ]
    },
    {
     "data": {
      "text/plain": [
       "[2.7686927318573, 0.1994708925485611]"
      ]
     },
     "execution_count": 19,
     "metadata": {},
     "output_type": "execute_result"
    }
   ],
   "source": [
    "CNNmodel.evaluate(X_test, Y_test)"
   ]
  },
  {
   "cell_type": "code",
   "execution_count": 20,
   "id": "9c949a2f",
   "metadata": {},
   "outputs": [
    {
     "name": "stdout",
     "output_type": "stream",
     "text": [
      "119/119 [==============================] - 1s 4ms/step\n"
     ]
    }
   ],
   "source": [
    "pred = CNNmodel.predict(X_test)"
   ]
  },
  {
   "cell_type": "code",
   "execution_count": 21,
   "id": "7e51a1d8",
   "metadata": {},
   "outputs": [
    {
     "data": {
      "image/png": "[encoded data removed]",
      "text/plain": [
       "<Figure size 1200x600 with 2 Axes>"
      ]
     },
     "metadata": {},
     "output_type": "display_data"
    }
   ],
   "source": [
    "plot_loss_accuracy(history)"
   ]
  },
  {
   "cell_type": "code",
   "execution_count": 26,
   "id": "ea467d03",
   "metadata": {},
   "outputs": [
    {
     "name": "stdout",
     "output_type": "stream",
     "text": [
      "Model: \"sequential_3\"\n",
      "_________________________________________________________________\n",
      " Layer (type)                Output Shape              Param #   \n",
      "=================================================================\n",
      " conv2d_8 (Conv2D)           (None, 12, 259, 32)       320       \n",
      "                                                                 \n",
      " dropout_8 (Dropout)         (None, 12, 259, 32)       0         \n",
      "                                                                 \n",
      " conv2d_9 (Conv2D)           (None, 12, 259, 64)       18496     \n",
      "                                                                 \n",
      " dropout_9 (Dropout)         (None, 12, 259, 64)       0         \n",
      "                                                                 \n",
      " conv2d_10 (Conv2D)          (None, 12, 259, 64)       36928     \n",
      "                                                                 \n",
      " flatten_3 (Flatten)         (None, 198912)            0         \n",
      "                                                                 \n",
      " dense_9 (Dense)             (None, 64)                12730432  \n",
      "                                                                 \n",
      " dropout_10 (Dropout)        (None, 64)                0         \n",
      "                                                                 \n",
      " dense_10 (Dense)            (None, 32)                2080      \n",
      "                                                                 \n",
      " dense_11 (Dense)            (None, 21)                693       \n",
      "                                                                 \n",
      "=================================================================\n",
      "Total params: 12,788,949\n",
      "Trainable params: 12,788,949\n",
      "Non-trainable params: 0\n",
      "_________________________________________________________________\n"
     ]
    }
   ],
   "source": [
    "CNNmodel_2 = Sequential()\n",
    "CNNmodel_2.add(layers.Conv2D(32, (3, 3), activation='relu', padding='same', input_shape=input_shape))\n",
    "# CNNmodel_2.add(layers.MaxPooling2D((2, 2)))\n",
    "CNNmodel_2.add(layers.Dropout(0.2))\n",
    "CNNmodel_2.add(layers.Conv2D(64, (3, 3), activation='relu', padding='same'))\n",
    "# CNNmodel_2.add(layers.MaxPooling2D((2, 2)))\n",
    "CNNmodel_2.add(layers.Dropout(0.2))\n",
    "CNNmodel_2.add(layers.Conv2D(64, (3, 3), activation='relu', padding='same'))\n",
    "CNNmodel_2.add(layers.Flatten())\n",
    "CNNmodel_2.add(layers.Dense(64, activation='relu'))\n",
    "CNNmodel_2.add(layers.Dropout(0.2))\n",
    "CNNmodel_2.add(layers.Dense(32, activation='relu'))\n",
    "CNNmodel_2.add(layers.Dense(num_classes, activation='softmax'))\n",
    "\n",
    "CNNmodel_2.summary()\n",
    "\n",
    "opt = tf.keras.optimizers.legacy.Adam(learning_rate=0.001, decay=1e-6)\n",
    "\n",
    "CNNmodel_2.compile(loss='categorical_crossentropy',\n",
    "              optimizer=opt,\n",
    "              metrics=['accuracy'])"
   ]
  },
  {
   "cell_type": "code",
   "execution_count": null,
   "id": "a3c9d77a",
   "metadata": {},
   "outputs": [],
   "source": []
  }
 ],
 "metadata": {
  "kernelspec": {
   "display_name": "envtf",
   "language": "python",
   "name": "python3"
  },
  "language_info": {
   "codemirror_mode": {
    "name": "ipython",
    "version": 3
   },
   "file_extension": ".py",
   "mimetype": "text/x-python",
   "name": "python",
   "nbconvert_exporter": "python",
   "pygments_lexer": "ipython3",
   "version": "3.9.15"
  },
  "vscode": {
   "interpreter": {
    "hash": "82a4e1d51be42dd82f66b8e967c2ae005e6d3413f2cbc542c5d6254e2198e265"
   }
  }
 },
 "nbformat": 4,
 "nbformat_minor": 5
}
