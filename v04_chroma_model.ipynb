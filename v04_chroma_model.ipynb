{
 "cells": [
  {
   "attachments": {},
   "cell_type": "markdown",
   "id": "960722eb",
   "metadata": {},
   "source": [
    "Download dataset : https://drive.google.com/drive/folders/1_1VUX0ORKvdo5M3Gyv8HLAfCEbx_QTC5?usp=sharing"
   ]
  },
  {
   "cell_type": "code",
   "execution_count": 1,
   "id": "1c0bb56e",
   "metadata": {},
   "outputs": [],
   "source": [
    "%matplotlib inline\n",
    "\n",
    "import os\n",
    "\n",
    "import IPython.display as ipd\n",
    "import numpy as np\n",
    "import pandas as pd\n",
    "import matplotlib.pyplot as plt\n",
    "import seaborn as sns\n",
    "import sklearn as skl\n",
    "import sklearn.utils, sklearn.preprocessing, sklearn.decomposition, sklearn.svm\n",
    "import librosa\n",
    "import librosa.display\n",
    "from tensorflow import keras\n",
    "\n",
    "import utils\n",
    "\n",
    "plt.rcParams['figure.figsize'] = (25, 8)\n",
    "plt.rcParams[\"figure.autolayout\"] = True"
   ]
  },
  {
   "attachments": {},
   "cell_type": "markdown",
   "id": "d0d521be",
   "metadata": {},
   "source": [
    "# Audio to Vec"
   ]
  },
  {
   "cell_type": "code",
   "execution_count": 2,
   "id": "ecec5a5e",
   "metadata": {},
   "outputs": [],
   "source": [
    "import tensorflow as tf\n",
    "import pathlib\n",
    "import tensorflow_io as tfio"
   ]
  },
  {
   "cell_type": "code",
   "execution_count": 3,
   "id": "7af5fc05",
   "metadata": {},
   "outputs": [],
   "source": [
    "music_root = pathlib.Path('./music_data/')"
   ]
  },
  {
   "cell_type": "code",
   "execution_count": 4,
   "id": "760cf23e",
   "metadata": {},
   "outputs": [
    {
     "name": "stdout",
     "output_type": "stream",
     "text": [
      "acoustic\n",
      "afrobeat\n",
      "alt-rock\n",
      "alternative\n",
      "ambient\n",
      "anime\n",
      "black-metal\n",
      "bluegrass\n",
      "blues\n",
      "brazil\n",
      "breakbeat\n",
      "british\n",
      "cantopop\n",
      "chicago-house\n",
      "children\n",
      "chill\n",
      "classical\n",
      "club\n",
      "comedy\n",
      "country\n",
      "dance\n",
      "dancehall\n",
      "death-metal\n",
      "deep-house\n",
      "detroit-techno\n",
      "disco\n",
      "drum-and-bass\n",
      "dub\n",
      "dubstep\n",
      "edm\n",
      "electro\n",
      "electronic\n",
      "emo\n",
      "folk\n",
      "forro\n",
      "french\n",
      "funk\n",
      "garage\n",
      "german\n",
      "gospel\n",
      "goth\n",
      "grindcore\n",
      "groove\n",
      "grunge\n",
      "guitar\n",
      "happy\n",
      "hard-rock\n",
      "hardcore\n",
      "hardstyle\n",
      "heavy-metal\n",
      "hip-hop\n",
      "honky-tonk\n",
      "house\n",
      "idm\n",
      "indian\n",
      "indie\n",
      "indie-pop\n",
      "industrial\n",
      "iranian\n",
      "j-dance\n",
      "j-idol\n",
      "j-pop\n",
      "j-rock\n",
      "jazz\n",
      "k-pop\n",
      "kids\n",
      "latin\n",
      "latino\n",
      "malay\n",
      "mandopop\n",
      "metal\n",
      "metalcore\n",
      "minimal-techno\n",
      "mpb\n",
      "new-age\n",
      "opera\n",
      "pagode\n",
      "party\n",
      "piano\n",
      "pop\n",
      "pop-film\n",
      "power-pop\n",
      "progressive-house\n",
      "psych-rock\n",
      "punk\n",
      "punk-rock\n",
      "r-n-b\n",
      "reggae\n",
      "reggaeton\n",
      "rock\n",
      "rock-n-roll\n",
      "rockabilly\n",
      "romance\n",
      "sad\n",
      "salsa\n",
      "samba\n",
      "sertanejo\n",
      "show-tunes\n",
      "singer-songwriter\n",
      "ska\n",
      "sleep\n",
      "songwriter\n",
      "soul\n",
      "spanish\n",
      "study\n",
      "swedish\n",
      "synth-pop\n",
      "tango\n",
      "techno\n",
      "trance\n",
      "trip-hop\n",
      "turkish\n",
      "world-music\n"
     ]
    }
   ],
   "source": [
    "for item in music_root.glob(\"*\"):\n",
    "  print(item.name)"
   ]
  },
  {
   "cell_type": "code",
   "execution_count": 5,
   "id": "3d2d3944",
   "metadata": {},
   "outputs": [],
   "source": [
    "list_ds = tf.data.Dataset.list_files(str(music_root/'*/*'))"
   ]
  },
  {
   "cell_type": "code",
   "execution_count": 6,
   "id": "d433cf29",
   "metadata": {},
   "outputs": [],
   "source": [
    "def parse_chroma(audio_path):\n",
    "  label = tf.strings.split(audio_path, os.sep)\n",
    "  label = label[-2].numpy().decode('utf-8')\n",
    "  x, sr = librosa.load(audio_path.numpy().decode('utf-8'), sr=None, mono=True,offset=0.0, duration=3.0)\n",
    "  chroma = librosa.feature.chroma_stft(y=x,sr=sr)\n",
    "  return chroma, label"
   ]
  },
  {
   "cell_type": "code",
   "execution_count": 7,
   "id": "32b0fde9",
   "metadata": {},
   "outputs": [
    {
     "name": "stdout",
     "output_type": "stream",
     "text": [
      "j-rock\n"
     ]
    },
    {
     "data": {
      "image/png": "[encoded data removed]",
      "text/plain": [
       "<Figure size 2500x800 with 1 Axes>"
      ]
     },
     "metadata": {},
     "output_type": "display_data"
    }
   ],
   "source": [
    "# test function parse_chroma\n",
    "file_path = next(iter(list_ds))\n",
    "chroma, label = parse_chroma(file_path)\n",
    "\n",
    "def show(chroma, label):\n",
    "  print(label)\n",
    "  plt.imshow(chroma)\n",
    "  plt.axis('off')\n",
    "\n",
    "show(chroma, label)"
   ]
  },
  {
   "cell_type": "code",
   "execution_count": 8,
   "id": "ec7433d3",
   "metadata": {},
   "outputs": [
    {
     "name": "stdout",
     "output_type": "stream",
     "text": [
      "j-rock\n"
     ]
    },
    {
     "data": {
      "image/png": "[encoded data removed]",
      "text/plain": [
       "<Figure size 2500x800 with 1 Axes>"
      ]
     },
     "metadata": {},
     "output_type": "display_data"
    }
   ],
   "source": [
    "z = map(parse_chroma,[file_path])\n",
    "q = np.array(list(z), dtype=object)\n",
    "show(q[0][0], q[0][1])"
   ]
  },
  {
   "cell_type": "code",
   "execution_count": 9,
   "id": "7eecf6ce",
   "metadata": {},
   "outputs": [],
   "source": [
    "classes = [item.name for item in music_root.glob(\"*\")]"
   ]
  },
  {
   "cell_type": "code",
   "execution_count": 10,
   "id": "4317ace6",
   "metadata": {},
   "outputs": [],
   "source": [
    "def plot_loss_accuracy(history):\n",
    "    fig = plt.figure(figsize=(12, 6))\n",
    "    ax = fig.add_subplot(1, 2, 1)\n",
    "    ax.plot(history.history[\"loss\"],'r-x', label=\"Train Loss\")\n",
    "    ax.plot(history.history[\"val_loss\"],'b-x', label=\"Validation Loss\")\n",
    "    ax.legend()\n",
    "    ax.set_title('cross_entropy loss')\n",
    "    ax.grid(True)\n",
    "\n",
    "\n",
    "    ax = fig.add_subplot(1, 2, 2)\n",
    "    ax.plot(history.history[\"accuracy\"],'r-x', label=\"Train Accuracy\")\n",
    "    ax.plot(history.history[\"val_accuracy\"],'b-x', label=\"Validation Accuracy\")\n",
    "    ax.legend()\n",
    "    ax.set_title('accuracy')\n",
    "    ax.grid(True)"
   ]
  },
  {
   "cell_type": "code",
   "execution_count": 11,
   "id": "a19d55ee",
   "metadata": {},
   "outputs": [],
   "source": [
    "def plot_loss_accuracy(history):\n",
    "    fig = plt.figure(figsize=(12, 6))\n",
    "    ax = fig.add_subplot(1, 2, 1)\n",
    "    ax.plot(history.history[\"loss\"],'r-x', label=\"Train Loss\")\n",
    "    ax.plot(history.history[\"val_loss\"],'b-x', label=\"Validation Loss\")\n",
    "    ax.legend()\n",
    "    ax.set_title('cross_entropy loss')\n",
    "    ax.grid(True)\n",
    "\n",
    "\n",
    "    ax = fig.add_subplot(1, 2, 2)\n",
    "    ax.plot(history.history[\"accuracy\"],'r-x', label=\"Train Accuracy\")\n",
    "    ax.plot(history.history[\"val_accuracy\"],'b-x', label=\"Validation Accuracy\")\n",
    "    ax.legend()\n",
    "    ax.set_title('accuracy')\n",
    "    ax.grid(True)"
   ]
  },
  {
   "attachments": {},
   "cell_type": "markdown",
   "id": "4e8078d4",
   "metadata": {},
   "source": [
    "# Build CNN Model"
   ]
  },
  {
   "cell_type": "code",
   "execution_count": 12,
   "id": "6083ff7e",
   "metadata": {},
   "outputs": [],
   "source": [
    "from sklearn.model_selection import train_test_split"
   ]
  },
  {
   "cell_type": "code",
   "execution_count": 13,
   "id": "ea1e39ee",
   "metadata": {},
   "outputs": [],
   "source": [
    "\n",
    "def onehot(y_str):\n",
    "    nclass=len(classes)\n",
    "    y_num = np.array([classes.index(y) for y in y_str])\n",
    "    y_ = np.zeros((y_str.shape[0], nclass))\n",
    "    for i, y in enumerate(y_num):\n",
    "        y_[i, int(y)] = 1\n",
    "    return y_"
   ]
  },
  {
   "cell_type": "code",
   "execution_count": 14,
   "id": "34ca3821",
   "metadata": {},
   "outputs": [],
   "source": [
    "BATCH_FILES: int = 250"
   ]
  },
  {
   "attachments": {},
   "cell_type": "markdown",
   "id": "2fa83b3e",
   "metadata": {},
   "source": [
    "- โหลดไฟล์ wav และแปลงเป็น chroma feature (type vector)\n",
    "- Add chroma feature to Numpy array"
   ]
  },
  {
   "cell_type": "code",
   "execution_count": 15,
   "id": "57f4c944",
   "metadata": {},
   "outputs": [],
   "source": [
    "\n",
    "# # music_root : ./music_data/\n",
    "# # list_files : music_root/*/*\n",
    "\n",
    "# index_batch = 0\n",
    "# iterate = 0\n",
    "# batch_size = int(250/BATCH_FILES)\n",
    "\n",
    "# for iterate in range(1, batch_size+1) :\n",
    "\n",
    "#     x_dataset = []\n",
    "#     y_dataset = []\n",
    "\n",
    "#     for dir in music_root.glob(\"*\"):\n",
    "#         list_files = tf.data.Dataset.list_files(str(dir/'*'))\n",
    "#         list_files = [i for i in list_files]\n",
    "\n",
    "#         index_file = index_batch\n",
    "#         while(index_file < iterate * BATCH_FILES):\n",
    "#             item = list_files[index_file]\n",
    "#             chroma, label = parse_chroma(item)\n",
    "#             x_dataset.append(chroma)\n",
    "#             y_dataset.append(label)\n",
    "#             index_file += 1\n",
    "\n",
    "#     index_batch += BATCH_FILES\n",
    "\n",
    "#     x_dataset = np.array(x_dataset)\n",
    "#     y_dataset = np.array(y_dataset)\n",
    "\n",
    "#     x_dataset = x_dataset.reshape((*x_dataset.shape, 1))\n",
    "#     y_dataset = onehot(y_dataset)\n",
    "\n",
    "#     X_train, X_test, Y_train, Y_test = train_test_split(x_dataset, y_dataset, train_size=0.75, stratify=y_dataset)\n",
    "#     X_train, X_val, Y_train, Y_val = train_test_split(X_train, Y_train, train_size=0.8, stratify=Y_train)\n",
    "\n",
    "#     # CNNmodel.fit(X_train, Y_train, batch_size=10, epochs=20, validation_data=(X_test, Y_test), shuffle=True)\n"
   ]
  },
  {
   "cell_type": "code",
   "execution_count": 16,
   "id": "a1509baf",
   "metadata": {},
   "outputs": [],
   "source": [
    "# save dataset-vec to file\n",
    "\n",
    "# np.save('./dataset-vec/x.npy', x_dataset)\n",
    "# np.save('./dataset-vec/y.npy', y_dataset)"
   ]
  },
  {
   "cell_type": "code",
   "execution_count": 17,
   "id": "6f58ebc4",
   "metadata": {},
   "outputs": [],
   "source": [
    "# load dataset-vec\n",
    "\n",
    "x_dataset = np.load('./dataset-vec/x.npy')\n",
    "y_dataset = np.load('./dataset-vec/y.npy')"
   ]
  },
  {
   "cell_type": "code",
   "execution_count": 18,
   "id": "c489a8b7",
   "metadata": {},
   "outputs": [],
   "source": [
    "X_train, X_test, Y_train, Y_test = train_test_split(x_dataset, y_dataset, train_size=0.75, stratify=y_dataset)\n",
    "X_train, X_val, Y_train, Y_val = train_test_split(X_train, Y_train, train_size=0.8, stratify=Y_train)"
   ]
  },
  {
   "cell_type": "code",
   "execution_count": 19,
   "id": "630a3603",
   "metadata": {},
   "outputs": [
    {
     "data": {
      "text/plain": [
       "28250"
      ]
     },
     "execution_count": 19,
     "metadata": {},
     "output_type": "execute_result"
    }
   ],
   "source": [
    "X_train.shape[0] + X_val.shape[0] + X_test.shape[0]"
   ]
  },
  {
   "cell_type": "code",
   "execution_count": 20,
   "id": "d0a432bf",
   "metadata": {},
   "outputs": [
    {
     "name": "stdout",
     "output_type": "stream",
     "text": [
      "Model: \"sequential\"\n",
      "_________________________________________________________________\n",
      " Layer (type)                Output Shape              Param #   \n",
      "=================================================================\n",
      " conv2d (Conv2D)             (None, 12, 259, 32)       320       \n",
      "                                                                 \n",
      " max_pooling2d (MaxPooling2D  (None, 6, 129, 32)       0         \n",
      " )                                                               \n",
      "                                                                 \n",
      " conv2d_1 (Conv2D)           (None, 4, 127, 32)        9248      \n",
      "                                                                 \n",
      " conv2d_2 (Conv2D)           (None, 2, 125, 32)        9248      \n",
      "                                                                 \n",
      " max_pooling2d_1 (MaxPooling  (None, 1, 62, 32)        0         \n",
      " 2D)                                                             \n",
      "                                                                 \n",
      " flatten (Flatten)           (None, 1984)              0         \n",
      "                                                                 \n",
      " dropout (Dropout)           (None, 1984)              0         \n",
      "                                                                 \n",
      " dense (Dense)               (None, 512)               1016320   \n",
      "                                                                 \n",
      " dropout_1 (Dropout)         (None, 512)               0         \n",
      "                                                                 \n",
      " dense_1 (Dense)             (None, 512)               262656    \n",
      "                                                                 \n",
      " dropout_2 (Dropout)         (None, 512)               0         \n",
      "                                                                 \n",
      " dense_2 (Dense)             (None, 113)               57969     \n",
      "                                                                 \n",
      "=================================================================\n",
      "Total params: 1,355,761\n",
      "Trainable params: 1,355,761\n",
      "Non-trainable params: 0\n",
      "_________________________________________________________________\n"
     ]
    }
   ],
   "source": [
    "input_shape=(12, 259, 1)\n",
    "CNNmodel = tf.keras.models.Sequential([\n",
    "    tf.keras.layers.Conv2D(32, (3, 3), activation='relu', padding=\"same\", input_shape=input_shape),\n",
    "    tf.keras.layers.MaxPooling2D((2, 2)),\n",
    "\n",
    "    tf.keras.layers.Conv2D(32, (3, 3), activation='relu'),\n",
    "\n",
    "    tf.keras.layers.Conv2D(32, (3, 3), activation='relu'),\n",
    "    tf.keras.layers.MaxPooling2D((2, 2)),\n",
    "\n",
    "    tf.keras.layers.Flatten(),\n",
    "    tf.keras.layers.Dropout(0.2),\n",
    "    tf.keras.layers.Dense(512, activation='relu'),\n",
    "    tf.keras.layers.Dropout(0.2),\n",
    "    tf.keras.layers.Dense(512, activation='relu'),\n",
    "    tf.keras.layers.Dropout(0.4),\n",
    "    tf.keras.layers.Dense(113, activation='softmax'),\n",
    "])\n",
    "\n",
    "CNNmodel.summary()"
   ]
  },
  {
   "cell_type": "code",
   "execution_count": 21,
   "id": "7d063966",
   "metadata": {},
   "outputs": [],
   "source": [
    "opt = tf.keras.optimizers.legacy.Adam(learning_rate=0.001, decay=1e-6)\n",
    "\n",
    "CNNmodel.compile(loss='categorical_crossentropy',\n",
    "              optimizer=opt,\n",
    "              metrics=['accuracy'])"
   ]
  },
  {
   "cell_type": "code",
   "execution_count": 22,
   "id": "21941492",
   "metadata": {},
   "outputs": [
    {
     "name": "stdout",
     "output_type": "stream",
     "text": [
      "Epoch 1/20\n",
      "68/68 [==============================] - 20s 288ms/step - loss: 4.7124 - accuracy: 0.0104 - val_loss: 4.6997 - val_accuracy: 0.0156\n",
      "Epoch 2/20\n",
      "68/68 [==============================] - 19s 276ms/step - loss: 4.6238 - accuracy: 0.0185 - val_loss: 4.5346 - val_accuracy: 0.0203\n",
      "Epoch 3/20\n",
      "68/68 [==============================] - 19s 275ms/step - loss: 4.5158 - accuracy: 0.0234 - val_loss: 4.4675 - val_accuracy: 0.0311\n",
      "Epoch 4/20\n",
      "68/68 [==============================] - 19s 276ms/step - loss: 4.4529 - accuracy: 0.0293 - val_loss: 4.4181 - val_accuracy: 0.0392\n",
      "Epoch 5/20\n",
      "68/68 [==============================] - 19s 279ms/step - loss: 4.3618 - accuracy: 0.0430 - val_loss: 4.3199 - val_accuracy: 0.0503\n",
      "Epoch 6/20\n",
      "68/68 [==============================] - 19s 282ms/step - loss: 4.2500 - accuracy: 0.0593 - val_loss: 4.2622 - val_accuracy: 0.0533\n",
      "Epoch 7/20\n",
      "68/68 [==============================] - 19s 281ms/step - loss: 4.1143 - accuracy: 0.0729 - val_loss: 4.2090 - val_accuracy: 0.0651\n",
      "Epoch 8/20\n",
      "68/68 [==============================] - 18s 271ms/step - loss: 3.9704 - accuracy: 0.0951 - val_loss: 4.1373 - val_accuracy: 0.0729\n",
      "Epoch 9/20\n",
      "68/68 [==============================] - 20s 302ms/step - loss: 3.8246 - accuracy: 0.1208 - val_loss: 4.1468 - val_accuracy: 0.0833\n",
      "Epoch 10/20\n",
      "68/68 [==============================] - 20s 294ms/step - loss: 3.6498 - accuracy: 0.1520 - val_loss: 4.1406 - val_accuracy: 0.0958\n",
      "Epoch 11/20\n",
      "68/68 [==============================] - 19s 277ms/step - loss: 3.4391 - accuracy: 0.1836 - val_loss: 4.1648 - val_accuracy: 0.0984\n",
      "Epoch 12/20\n",
      "68/68 [==============================] - 19s 276ms/step - loss: 3.1933 - accuracy: 0.2274 - val_loss: 4.2463 - val_accuracy: 0.0989\n",
      "Epoch 13/20\n",
      "68/68 [==============================] - 19s 282ms/step - loss: 2.9565 - accuracy: 0.2774 - val_loss: 4.2897 - val_accuracy: 0.1069\n",
      "Epoch 14/20\n",
      "68/68 [==============================] - 19s 286ms/step - loss: 2.7057 - accuracy: 0.3250 - val_loss: 4.3661 - val_accuracy: 0.1057\n",
      "Epoch 15/20\n",
      "68/68 [==============================] - 19s 281ms/step - loss: 2.4598 - accuracy: 0.3727 - val_loss: 4.4805 - val_accuracy: 0.1144\n",
      "Epoch 16/20\n",
      "68/68 [==============================] - 17s 256ms/step - loss: 2.2360 - accuracy: 0.4211 - val_loss: 4.6285 - val_accuracy: 0.1154\n",
      "Epoch 17/20\n",
      "68/68 [==============================] - 17s 257ms/step - loss: 2.0292 - accuracy: 0.4642 - val_loss: 4.6990 - val_accuracy: 0.1156\n",
      "Epoch 18/20\n",
      "68/68 [==============================] - 17s 256ms/step - loss: 1.8500 - accuracy: 0.5053 - val_loss: 4.8234 - val_accuracy: 0.1130\n",
      "Epoch 19/20\n",
      "68/68 [==============================] - 17s 247ms/step - loss: 1.6745 - accuracy: 0.5433 - val_loss: 4.9766 - val_accuracy: 0.1161\n",
      "Epoch 20/20\n",
      "68/68 [==============================] - 17s 255ms/step - loss: 1.5752 - accuracy: 0.5671 - val_loss: 5.1272 - val_accuracy: 0.1187\n"
     ]
    }
   ],
   "source": [
    "history = CNNmodel.fit(X_train, Y_train, batch_size=250, epochs=20, validation_data=(X_val, Y_val), shuffle=True)"
   ]
  },
  {
   "cell_type": "code",
   "execution_count": 133,
   "id": "f3024f78",
   "metadata": {},
   "outputs": [
    {
     "name": "stdout",
     "output_type": "stream",
     "text": [
      "221/221 [==============================] - 1s 6ms/step - loss: 4.3099 - accuracy: 0.1025\n"
     ]
    },
    {
     "data": {
      "text/plain": [
       "[4.309893608093262, 0.10250601917505264]"
      ]
     },
     "execution_count": 133,
     "metadata": {},
     "output_type": "execute_result"
    }
   ],
   "source": [
    "CNNmodel.evaluate(X_test, Y_test)"
   ]
  },
  {
   "cell_type": "code",
   "execution_count": 134,
   "id": "9c949a2f",
   "metadata": {},
   "outputs": [
    {
     "name": "stdout",
     "output_type": "stream",
     "text": [
      "221/221 [==============================] - 1s 6ms/step\n"
     ]
    }
   ],
   "source": [
    "pred = CNNmodel.predict(X_test)"
   ]
  },
  {
   "cell_type": "code",
   "execution_count": 135,
   "id": "7e51a1d8",
   "metadata": {},
   "outputs": [
    {
     "data": {
      "image/png": "[encoded data removed]",
      "text/plain": [
       "<Figure size 1200x600 with 2 Axes>"
      ]
     },
     "metadata": {},
     "output_type": "display_data"
    }
   ],
   "source": [
    "plot_loss_accuracy(history)"
   ]
  },
  {
   "cell_type": "code",
   "execution_count": null,
   "id": "90ed7110",
   "metadata": {},
   "outputs": [],
   "source": []
  }
 ],
 "metadata": {
  "kernelspec": {
   "display_name": "envtf",
   "language": "python",
   "name": "python3"
  },
  "language_info": {
   "codemirror_mode": {
    "name": "ipython",
    "version": 3
   },
   "file_extension": ".py",
   "mimetype": "text/x-python",
   "name": "python",
   "nbconvert_exporter": "python",
   "pygments_lexer": "ipython3",
   "version": "3.9.15"
  },
  "vscode": {
   "interpreter": {
    "hash": "82a4e1d51be42dd82f66b8e967c2ae005e6d3413f2cbc542c5d6254e2198e265"
   }
  }
 },
 "nbformat": 4,
 "nbformat_minor": 5
}
